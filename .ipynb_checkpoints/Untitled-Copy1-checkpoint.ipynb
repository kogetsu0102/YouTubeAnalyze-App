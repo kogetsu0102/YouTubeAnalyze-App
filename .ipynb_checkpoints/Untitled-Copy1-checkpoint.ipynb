{
 "cells": [
  {
   "cell_type": "code",
   "execution_count": 1,
   "id": "7aa71e3c-e605-43ea-8daf-ba89f984cfad",
   "metadata": {},
   "outputs": [
    {
     "name": "stdout",
     "output_type": "stream",
     "text": [
      "\u001b[33mDEPRECATION: Configuring installation scheme with distutils config files is deprecated and will no longer work in the near future. If you are using a Homebrew or Linuxbrew Python, please see discussion at https://github.com/Homebrew/homebrew-core/issues/76621\u001b[0m\u001b[33m\n",
      "\u001b[0mCollecting beautifulsoup4\n",
      "  Downloading beautifulsoup4-4.11.1-py3-none-any.whl (128 kB)\n",
      "\u001b[2K     \u001b[38;2;114;156;31m━━━━━━━━━━━━━━━━━━━━━━━━━━━━━━━━━━━━━━━\u001b[0m \u001b[32m128.2/128.2 kB\u001b[0m \u001b[31m3.7 MB/s\u001b[0m eta \u001b[36m0:00:00\u001b[0m\n",
      "\u001b[?25hCollecting soupsieve>1.2\n",
      "  Downloading soupsieve-2.3.2.post1-py3-none-any.whl (37 kB)\n",
      "Installing collected packages: soupsieve, beautifulsoup4\n",
      "\u001b[33m  DEPRECATION: Configuring installation scheme with distutils config files is deprecated and will no longer work in the near future. If you are using a Homebrew or Linuxbrew Python, please see discussion at https://github.com/Homebrew/homebrew-core/issues/76621\u001b[0m\u001b[33m\n",
      "\u001b[0m\u001b[33m  DEPRECATION: Configuring installation scheme with distutils config files is deprecated and will no longer work in the near future. If you are using a Homebrew or Linuxbrew Python, please see discussion at https://github.com/Homebrew/homebrew-core/issues/76621\u001b[0m\u001b[33m\n",
      "\u001b[0m\u001b[33mDEPRECATION: Configuring installation scheme with distutils config files is deprecated and will no longer work in the near future. If you are using a Homebrew or Linuxbrew Python, please see discussion at https://github.com/Homebrew/homebrew-core/issues/76621\u001b[0m\u001b[33m\n",
      "\u001b[0mSuccessfully installed beautifulsoup4-4.11.1 soupsieve-2.3.2.post1\n"
     ]
    }
   ],
   "source": [
    "!pip install beautifulsoup4"
   ]
  },
  {
   "cell_type": "code",
   "execution_count": 2,
   "id": "2fa750c9-3297-4e28-a040-4ffc65e0f8f5",
   "metadata": {},
   "outputs": [],
   "source": [
    "from bs4 import BeautifulSoup\n",
    "import requests"
   ]
  },
  {
   "cell_type": "code",
   "execution_count": 5,
   "id": "3908ee4b-d14e-44ac-9443-8d9a6ad59bce",
   "metadata": {},
   "outputs": [],
   "source": [
    "url = 'https://scraping-for-beginner.herokuapp.com/udemy'"
   ]
  },
  {
   "cell_type": "code",
   "execution_count": 6,
   "id": "ac2da8a9-f185-4a97-8494-03681ed273c9",
   "metadata": {},
   "outputs": [],
   "source": [
    "res = requests.get(url)"
   ]
  },
  {
   "cell_type": "code",
   "execution_count": 8,
   "id": "6de1fdca-8882-4fb0-8dd1-5542a71bb977",
   "metadata": {},
   "outputs": [],
   "source": [
    "soup = BeautifulSoup(res.text, 'html.parser')"
   ]
  },
  {
   "cell_type": "code",
   "execution_count": 9,
   "id": "b290b401-d8c2-478a-b538-d995fcf0537d",
   "metadata": {},
   "outputs": [
    {
     "data": {
      "text/plain": [
       "<!DOCTYPE html>\n",
       "\n",
       "<html dir=\"ltr\" lang=\"en\">\n",
       "<head>\n",
       "<meta charset=\"utf-8\"/>\n",
       "<title>Webスクレイピング入門者のためのサイト</title>\n",
       "<!-- Compiled and minified CSS -->\n",
       "<link href=\"https://cdnjs.cloudflare.com/ajax/libs/materialize/1.0.0-rc.2/css/materialize.min.css\" rel=\"stylesheet\"/>\n",
       "<link href=\"https://fonts.googleapis.com/icon?family=Material+Icons\" rel=\"stylesheet\"/> \b\n",
       "  <link href=\"static/assets/css/style.css\" rel=\"stylesheet\"/>\n",
       "<link href=\"static/assets/css/udemy.css\" rel=\"stylesheet\"/>\n",
       "<!-- <link rel=\"stylesheet\" href=\"static/assets/css/mypage.css\"> -->\n",
       "</head>\n",
       "<body>\n",
       "<!-- Navbar -->\n",
       "<div class=\"navbar-fixed\">\n",
       "<!-- Dropdown Structure -->\n",
       "<nav class=\"\">\n",
       "<div class=\"nav-wrapper row\">\n",
       "<div class=\"col s5 l4 offset-s1 offset-l1\">\n",
       "<a class=\"brand-logo\" href=\"\b/\">Webスクレイピング入門</a>\n",
       "</div>\n",
       "<div class=\"col s5 l6\">\n",
       "<ul class=\"right hide-on-med-and-down\" id=\"nav-mobile\">\n",
       "<li><a class=\"\" href=\"\b/login_page\">ログイン</a></li>\n",
       "<li><a class=\"\" href=\"/ranking/\">ランキング</a></li>\n",
       "<li><a class=\"\" href=\"/image\">画像</a></li>\n",
       "<li><a class=\"\" href=\"/udemy\">Udemy</a></li>\n",
       "<li><a class=\"\" href=\"https://scraping-for-beginner.readthedocs.io/\" target=\"”_blank”\">サンプルコード</a></li>\n",
       "</ul>\n",
       "</div>\n",
       "</div>\n",
       "</nav>\n",
       "</div>\n",
       "<div class=\"row\">\n",
       "<div class=\"col s4 offset-s4\">\n",
       "<div class=\"overview\">\n",
       "<p>\n",
       "      こちらのページは、<b>PythonによるWebスクレイピング〜Webアプリケーション編〜</b>で使用します。\n",
       "      </p>\n",
       "</div>\n",
       "<div class=\"\">\n",
       "<div class=\"\">\n",
       "<div class=\"card\">\n",
       "<div class=\"card-image\">\n",
       "<img src=\"/static/assets/img/imanyu.png\"/>\n",
       "<span class=\"card-title\" style=\"color: black; background-color: white;\">いまにゅ</span>\n",
       "</div>\n",
       "<div class=\"card-content\">\n",
       "<p><b><p class=\"position\">いまにゅのプログラミング塾｜code4biz 代表</p></b><br/>\n",
       "\n",
       "            『プログラミング×〇〇』でビジネス戦闘力を向上させる｜東京理科大出身｜元東北大学 非常勤講師｜東進デジタルユニバーシティ最年少講師｜AI教育系ベンチャー（キカガク）取締役 → 今｜Udemy受講生3.3万人｜YouTubeチャンネル登録者10.5万人｜プログラミング初学者に欠かせない学習法等を発信<br/>\n",
       "</p>\n",
       "</div>\n",
       "<div class=\"card-action\">\n",
       "<p class=\"subscribers\">受講生の数：16700</p>\n",
       "<p class=\"reviews\">レビューの数：2890</p>\n",
       "</div>\n",
       "</div>\n",
       "</div>\n",
       "</div>\n",
       "</div>\n",
       "</div>\n",
       "<!-- Compiled and minified JavaScript -->\n",
       "<script src=\"https://code.jquery.com/jquery-3.3.1.min.js\"></script>\n",
       "<script src=\"https://cdnjs.cloudflare.com/ajax/libs/materialize/1.0.0-rc.2/js/materialize.min.js\"></script>\n",
       "<script type=\"text/javascript\">\n",
       "    $(document).ready(function() {\n",
       "      $(\".dropdown-trigger\").dropdown();\n",
       "    });\n",
       "  </script>\n",
       "</body>\n",
       "</html>"
      ]
     },
     "execution_count": 9,
     "metadata": {},
     "output_type": "execute_result"
    }
   ],
   "source": [
    "soup"
   ]
  },
  {
   "cell_type": "code",
   "execution_count": 14,
   "id": "92873982-4c96-4494-a6d4-0b692b82876d",
   "metadata": {},
   "outputs": [],
   "source": [
    "n_subscriber = soup.find('p', {'class': 'subscribers'}).text"
   ]
  },
  {
   "cell_type": "code",
   "execution_count": 17,
   "id": "b3b573d6-96d1-47e3-adfb-a6633c2897cc",
   "metadata": {},
   "outputs": [],
   "source": [
    "n_subscriber = int(n_subscriber.split('：')[1])"
   ]
  },
  {
   "cell_type": "code",
   "execution_count": 18,
   "id": "05495667-a4b2-4e39-9999-7284330aba64",
   "metadata": {},
   "outputs": [],
   "source": [
    "n_review = soup.find('p', {'class': 'reviews'}).text"
   ]
  },
  {
   "cell_type": "code",
   "execution_count": 20,
   "id": "88e68382-f824-4a5a-97e7-fd2e040bb07d",
   "metadata": {},
   "outputs": [],
   "source": [
    "n_review = int(n_review.split('：')[1])"
   ]
  },
  {
   "cell_type": "code",
   "execution_count": 21,
   "id": "8f185b52-1268-48c6-9bce-14e3445a5fbe",
   "metadata": {},
   "outputs": [],
   "source": [
    "url_ec = 'https://scraping.official.ec/'"
   ]
  },
  {
   "cell_type": "code",
   "execution_count": 22,
   "id": "bb33897a-b0eb-4ff1-9c31-9aa1a28e674d",
   "metadata": {},
   "outputs": [],
   "source": [
    "res = requests.get(url_ec)"
   ]
  },
  {
   "cell_type": "code",
   "execution_count": 23,
   "id": "0e21a944-4666-45ca-854e-193e602aba3a",
   "metadata": {},
   "outputs": [],
   "source": [
    "soup = BeautifulSoup(res.text, 'html.parser')"
   ]
  },
  {
   "cell_type": "code",
   "execution_count": 30,
   "id": "30d3b552-c195-486a-81af-7bcb023f6a9f",
   "metadata": {},
   "outputs": [],
   "source": [
    "item_list = soup.find('ul', {'id': 'itemList'})"
   ]
  },
  {
   "cell_type": "markdown",
   "id": "57875424-ebc1-4dac-ad0d-c69bfa55ab16",
   "metadata": {},
   "source": [
    "item_list.find_all('li')"
   ]
  },
  {
   "cell_type": "code",
   "execution_count": 28,
   "id": "132fb44f-9190-4727-bdef-3536db7ee468",
   "metadata": {},
   "outputs": [
    {
     "ename": "AttributeError",
     "evalue": "'NoneType' object has no attribute 'find_all'",
     "output_type": "error",
     "traceback": [
      "\u001b[0;31m---------------------------------------------------------------------------\u001b[0m",
      "\u001b[0;31mAttributeError\u001b[0m                            Traceback (most recent call last)",
      "Input \u001b[0;32mIn [28]\u001b[0m, in \u001b[0;36m<cell line: 1>\u001b[0;34m()\u001b[0m\n\u001b[0;32m----> 1\u001b[0m \u001b[43mitem_list\u001b[49m\u001b[38;5;241;43m.\u001b[39;49m\u001b[43mfind_all\u001b[49m(\u001b[38;5;124m'\u001b[39m\u001b[38;5;124mli\u001b[39m\u001b[38;5;124m'\u001b[39m)\n",
      "\u001b[0;31mAttributeError\u001b[0m: 'NoneType' object has no attribute 'find_all'"
     ]
    }
   ],
   "source": [
    "item_list.find_all('li')"
   ]
  },
  {
   "cell_type": "code",
   "execution_count": 29,
   "id": "cf572db3-c6ab-4fe5-bb77-6d734fcda653",
   "metadata": {},
   "outputs": [],
   "source": [
    "item_list"
   ]
  },
  {
   "cell_type": "code",
   "execution_count": 31,
   "id": "29106d6a-3d04-44d1-b305-5f5e5160cad8",
   "metadata": {},
   "outputs": [],
   "source": [
    "item_list = soup.find('ul', {'id': 'itemList'})"
   ]
  },
  {
   "cell_type": "code",
   "execution_count": 32,
   "id": "e1b1330e-9d14-4260-88f3-cacecf59086e",
   "metadata": {},
   "outputs": [
    {
     "data": {
      "text/plain": [
       "<ul class=\"items-grid_itemList_5a0255a1\" data-app-item-label=\"\" data-columns-pc=\"4\" data-columns-sp=\"2\" data-currency=\"JPY\" data-current=\"1\" data-endpoint=\"https://scraping.official.ec/load_items/\" data-exchange-rate=\"1\" data-frame=\"on\" data-items=\"4\" data-lang=\"ja\" data-last-page=\"1\" data-transparent=\"\" data-view-layout=\"rectangle\" id=\"itemList\"> <li class=\"items-grid_itemListLI_5a0255a1\"> <a class=\"items-grid_anchor_5a0255a1 js-anchor\" href=\"https://scraping.official.ec/items/40792108\"> <div class=\"items-grid_container_5a0255a1\"> <div class=\"items-grid_imageContainer_5a0255a1\"> <div class=\"items-grid_imageOuter_5a0255a1\"> <div class=\"items-grid_imageInner_5a0255a1\"> <img class=\"items-grid_image_5a0255a1\" data-src1280=\"https://baseec-img-mng.akamaized.net/images/item/origin/8397aca82a4a0a64729cdd8d327145da.png?imformat=generic&amp;q=90&amp;im=Resize,width=1280,type=normal\" height=\"640\" loading=\"lazy\" src=\"https://baseec-img-mng.akamaized.net/images/item/origin/8397aca82a4a0a64729cdd8d327145da.png?imformat=generic&amp;q=90&amp;im=Resize,width=640,type=normal\" width=\"640\"/> </div> <div class=\"items-grid_infoContainer_5a0255a1\"> <div class=\"items-grid_infoHead_5a0255a1\"> <div class=\"items-grid_itemTitle_5a0255a1\"> <p class=\"items-grid_itemTitleText_5a0255a1\">プログラミング学習の相談</p> </div> <div class=\"items-grid_itemPrice_5a0255a1\"> <p class=\"items-grid_price_5a0255a1\">¥30,000</p> </div> <div class=\"items-grid_itemInfoLabels_5a0255a1\"> </div> </div> <div class=\"items-grid_itemDescription_5a0255a1\"> <p class=\"items-grid_itemDescriptionText_5a0255a1\">プログラミング学習に関する相談をお受けいたします。\n",
       "購入成立後、日程調整を行いZoom URLをお送りいたします。\n",
       "事前にお送りする質問にお答えいただいた上で、1時間の相談会を実施します。\n",
       "主に、何をどのように学んでいけばよいか迷っている方や、プログラミングに躓いて悩んでいる初学者におすすめです。</p> </div> </div> </div> </div> </div> </a> </li> <li class=\"items-grid_itemListLI_5a0255a1\"> <a class=\"items-grid_anchor_5a0255a1 js-anchor\" href=\"https://scraping.official.ec/items/40792153\"> <div class=\"items-grid_container_5a0255a1\"> <div class=\"items-grid_imageContainer_5a0255a1\"> <div class=\"items-grid_imageOuter_5a0255a1\"> <div class=\"items-grid_imageInner_5a0255a1\"> <img class=\"items-grid_image_5a0255a1\" data-src1280=\"https://baseec-img-mng.akamaized.net/images/item/origin/e493302a92e0de9625b588e0bb4bad6c.png?imformat=generic&amp;q=90&amp;im=Resize,width=1280,type=normal\" height=\"640\" loading=\"lazy\" src=\"https://baseec-img-mng.akamaized.net/images/item/origin/e493302a92e0de9625b588e0bb4bad6c.png?imformat=generic&amp;q=90&amp;im=Resize,width=640,type=normal\" width=\"640\"/> </div> <div class=\"items-grid_infoContainer_5a0255a1\"> <div class=\"items-grid_infoHead_5a0255a1\"> <div class=\"items-grid_itemTitle_5a0255a1\"> <p class=\"items-grid_itemTitleText_5a0255a1\">顧問 &amp; アドバイザリー</p> </div> <div class=\"items-grid_itemPrice_5a0255a1\"> <p class=\"items-grid_price_5a0255a1\">¥100,000</p> </div> <div class=\"items-grid_itemInfoLabels_5a0255a1\"> </div> </div> <div class=\"items-grid_itemDescription_5a0255a1\"> <p class=\"items-grid_itemDescriptionText_5a0255a1\">下記カテゴリにおける企業のアドバイザリーを担当します。\n",
       "\n",
       "・IT/DX化\n",
       "・教育\n",
       "・営業戦略\n",
       "・人事領域（採用、育成）\n",
       "\n",
       "現在とあるブロックチェーンベンチャー企業にて、教育フェローとして教育事業の方針設計から、それにおける採用計画、運用面の設計までのアドバイス、構想立案を行っています。</p> </div> </div> </div> </div> </div> </a> </li> <li class=\"items-grid_itemListLI_5a0255a1\"> <a class=\"items-grid_anchor_5a0255a1 js-anchor\" href=\"https://scraping.official.ec/items/40792284\"> <div class=\"items-grid_container_5a0255a1\"> <div class=\"items-grid_imageContainer_5a0255a1\"> <div class=\"items-grid_imageOuter_5a0255a1\"> <div class=\"items-grid_imageInner_5a0255a1\"> <img class=\"items-grid_image_5a0255a1\" data-src1280=\"https://baseec-img-mng.akamaized.net/images/item/origin/33afc89ae72e60f1031c64d713911105.png?imformat=generic&amp;q=90&amp;im=Resize,width=1280,type=normal\" height=\"640\" loading=\"lazy\" src=\"https://baseec-img-mng.akamaized.net/images/item/origin/33afc89ae72e60f1031c64d713911105.png?imformat=generic&amp;q=90&amp;im=Resize,width=640,type=normal\" width=\"640\"/> </div> <div class=\"items-grid_infoContainer_5a0255a1\"> <div class=\"items-grid_infoHead_5a0255a1\"> <div class=\"items-grid_itemTitle_5a0255a1\"> <p class=\"items-grid_itemTitleText_5a0255a1\">Udemy講座まとめ買いパック</p> </div> <div class=\"items-grid_itemPrice_5a0255a1\"> <p class=\"items-grid_price_5a0255a1\">¥8,000</p> </div> <div class=\"items-grid_itemInfoLabels_5a0255a1\"> </div> </div> <div class=\"items-grid_itemDescription_5a0255a1\"> <p class=\"items-grid_itemDescriptionText_5a0255a1\">私がUdemyで公開している下記講座4点セットを特別価格で販売いたします。\n",
       "\n",
       "・PythonによるWebスクレイピング〜入門編〜【業務効率化への第一歩】\n",
       "　※定価：15,600円\n",
       "・PythonによるWebスクレイピング 〜Webアプリケーション編〜\n",
       "　※定価：22,800円\n",
       "・ビジネスパーソンに贈る業務効率化大全 〜Google Apps Scriptによる業務の自動化〜\n",
       "　※定価：24,000円\n",
       "・プログラミングを業務で活かす！PythonによるWeb API活用講座\n",
       "　※定価：19,800円</p> </div> </div> </div> </div> </div> </a> </li> <li class=\"items-grid_itemListLI_5a0255a1\"> <a class=\"items-grid_anchor_5a0255a1 js-anchor\" href=\"https://scraping.official.ec/items/40792454\"> <div class=\"items-grid_container_5a0255a1\"> <div class=\"items-grid_imageContainer_5a0255a1\"> <div class=\"items-grid_imageOuter_5a0255a1\"> <div class=\"items-grid_imageInner_5a0255a1\"> <img class=\"items-grid_image_5a0255a1\" data-src1280=\"https://baseec-img-mng.akamaized.net/images/item/origin/ce284316ad624e6e791f8b3d3165f4bf.png?imformat=generic&amp;q=90&amp;im=Resize,width=1280,type=normal\" height=\"640\" loading=\"lazy\" src=\"https://baseec-img-mng.akamaized.net/images/item/origin/ce284316ad624e6e791f8b3d3165f4bf.png?imformat=generic&amp;q=90&amp;im=Resize,width=640,type=normal\" width=\"640\"/> </div> <div class=\"items-grid_infoContainer_5a0255a1\"> <div class=\"items-grid_infoHead_5a0255a1\"> <div class=\"items-grid_itemTitle_5a0255a1\"> <p class=\"items-grid_itemTitleText_5a0255a1\">YouTubeコンサルティング</p> </div> <div class=\"items-grid_itemPrice_5a0255a1\"> <p class=\"items-grid_price_5a0255a1\">¥15,000</p> </div> <div class=\"items-grid_itemInfoLabels_5a0255a1\"> <p class=\"items-grid_infoItem_5a0255a1 items-grid_status_5a0255a1 items-grid_soldOut_5a0255a1\">SOLD OUT</p> </div> </div> <div class=\"items-grid_itemDescription_5a0255a1\"> <p class=\"items-grid_itemDescriptionText_5a0255a1\">YouTubeチャンネル運営に関してのコンサルティングを行います。\n",
       "中々伸びずの状況が続いていた私のチャンネルですが、直近は月次5000人以上のペースで増加するまでになりました。\n",
       "\n",
       "試行錯誤の末、溜まってきたノウハウがあります。\n",
       "そのノウハウを元に、大枠の部分から細かな部分までアドバイスを行います。教育系チャンネルは得意領域です。\n",
       "\n",
       "※チャンネル登録者数は2万6千人（2021年3月現在）\n",
       "</p> </div> </div> </div> </div> </div> </a> </li> </ul>"
      ]
     },
     "execution_count": 32,
     "metadata": {},
     "output_type": "execute_result"
    }
   ],
   "source": [
    "item_list"
   ]
  },
  {
   "cell_type": "code",
   "execution_count": 35,
   "id": "9fe13a1a-321c-4cf9-adad-719f1e0f447a",
   "metadata": {},
   "outputs": [],
   "source": [
    "items = item_list.find_all('li')"
   ]
  },
  {
   "cell_type": "code",
   "execution_count": 36,
   "id": "30c0159e-dbf6-4321-8cac-c5506dc40296",
   "metadata": {},
   "outputs": [],
   "source": [
    "item = items[0]"
   ]
  },
  {
   "cell_type": "code",
   "execution_count": 38,
   "id": "fe43aeec-4d55-4bd7-ab97-e3fb860c2be0",
   "metadata": {},
   "outputs": [],
   "source": [
    "title = item.find('p', {'class': 'items-grid_itemTitleText_5a0255a1'}).text"
   ]
  },
  {
   "cell_type": "code",
   "execution_count": 42,
   "id": "ede3e0f1-1e96-46d3-a5d6-b6c2338c2fd1",
   "metadata": {},
   "outputs": [],
   "source": [
    "price = item.find('p', {'class': 'items-grid_price_5a0255a1'}).text"
   ]
  },
  {
   "cell_type": "code",
   "execution_count": 40,
   "id": "6e379fde-ac28-4af8-9f7d-ee26c1ba46c5",
   "metadata": {},
   "outputs": [
    {
     "data": {
      "text/plain": [
       "'プログラミング学習の相談'"
      ]
     },
     "execution_count": 40,
     "metadata": {},
     "output_type": "execute_result"
    }
   ],
   "source": [
    "title"
   ]
  },
  {
   "cell_type": "code",
   "execution_count": 43,
   "id": "30c3c181-9435-4171-a9ab-4a8bae2ed12e",
   "metadata": {},
   "outputs": [
    {
     "data": {
      "text/plain": [
       "'¥30,000'"
      ]
     },
     "execution_count": 43,
     "metadata": {},
     "output_type": "execute_result"
    }
   ],
   "source": [
    "price"
   ]
  },
  {
   "cell_type": "code",
   "execution_count": 46,
   "id": "3e522a6e-4c5b-4cef-86f7-60effe82e578",
   "metadata": {},
   "outputs": [],
   "source": [
    "price = int(price.replace('¥', '').replace(',', ''))"
   ]
  },
  {
   "cell_type": "code",
   "execution_count": 47,
   "id": "f56c9973-6154-47b1-b44c-97c38db5a09e",
   "metadata": {},
   "outputs": [
    {
     "data": {
      "text/plain": [
       "'https://scraping.official.ec/items/40792108'"
      ]
     },
     "execution_count": 47,
     "metadata": {},
     "output_type": "execute_result"
    }
   ],
   "source": [
    "link = item.find('a')['href']"
   ]
  },
  {
   "cell_type": "code",
   "execution_count": 48,
   "id": "bc93d1ae-0292-4f1e-a5ed-76724a1243c7",
   "metadata": {},
   "outputs": [
    {
     "data": {
      "text/plain": [
       "False"
      ]
     },
     "execution_count": 48,
     "metadata": {},
     "output_type": "execute_result"
    }
   ],
   "source": [
    "items[3].find('p', {'class': 'items-grid_soldOut_5a0255a1'}) == None"
   ]
  },
  {
   "cell_type": "code",
   "execution_count": 49,
   "id": "19774938-d020-4677-826a-ff8c89383239",
   "metadata": {},
   "outputs": [],
   "source": [
    "is_stock = item.find('p', {'class': 'items-grid_soldOut_5a0255a1'}) == None"
   ]
  },
  {
   "cell_type": "code",
   "execution_count": 51,
   "id": "a29cae4c-8227-46d0-95cc-ece61c6eaf32",
   "metadata": {},
   "outputs": [],
   "source": [
    "is_stock = '在庫あり' if is_stock == True else '在庫なし'"
   ]
  },
  {
   "cell_type": "code",
   "execution_count": 52,
   "id": "8e53b17b-0e97-4d6b-8a53-dbf5d3a220f9",
   "metadata": {},
   "outputs": [],
   "source": [
    "url_ec = 'https://scraping.official.ec/'\n",
    "res = requests.get(url_ec)\n",
    "soup = BeautifulSoup(res.text, 'html.parser')\n",
    "item_list = soup.find('ul', {'id': 'itemList'})\n",
    "items = item_list.find_all('li')\n",
    "\n",
    "data_ec = []\n",
    "for item in items:\n",
    "    datum_ec = {}\n",
    "    datum_ec['title'] = item.find('p', {'class': 'items-grid_itemTitleText_5a0255a1'}).text\n",
    "    price = item.find('p', {'class': 'items-grid_price_5a0255a1'}).text\n",
    "    datum_ec['price'] = int(price.replace('¥', '').replace(',', ''))\n",
    "    datum_ec['link'] = item.find('a')['href']\n",
    "    is_stock = item.find('p', {'class': 'items-grid_soldOut_5a0255a1'}) == None\n",
    "    datum_ec['is_stock'] = '在庫あり' if is_stock == True else '在庫なし'\n",
    "    data_ec.append(datum_ec)\n"
   ]
  },
  {
   "cell_type": "code",
   "execution_count": 53,
   "id": "1acc698b-fde7-48db-9ee0-f564c48295a5",
   "metadata": {},
   "outputs": [
    {
     "data": {
      "text/plain": [
       "[{'title': 'プログラミング学習の相談',\n",
       "  'price': 30000,\n",
       "  'link': 'https://scraping.official.ec/items/40792108',\n",
       "  'is_stock': '在庫あり'},\n",
       " {'title': '顧問 & アドバイザリー',\n",
       "  'price': 100000,\n",
       "  'link': 'https://scraping.official.ec/items/40792153',\n",
       "  'is_stock': '在庫あり'},\n",
       " {'title': 'Udemy講座まとめ買いパック',\n",
       "  'price': 8000,\n",
       "  'link': 'https://scraping.official.ec/items/40792284',\n",
       "  'is_stock': '在庫あり'},\n",
       " {'title': 'YouTubeコンサルティング',\n",
       "  'price': 15000,\n",
       "  'link': 'https://scraping.official.ec/items/40792454',\n",
       "  'is_stock': '在庫なし'}]"
      ]
     },
     "execution_count": 53,
     "metadata": {},
     "output_type": "execute_result"
    }
   ],
   "source": [
    "data_ec"
   ]
  },
  {
   "cell_type": "code",
   "execution_count": null,
   "id": "b4e0ca2d-f92d-4eb7-bae9-5f647119da0f",
   "metadata": {},
   "outputs": [],
   "source": []
  }
 ],
 "metadata": {
  "kernelspec": {
   "display_name": "Python 3 (ipykernel)",
   "language": "python",
   "name": "python3"
  },
  "language_info": {
   "codemirror_mode": {
    "name": "ipython",
    "version": 3
   },
   "file_extension": ".py",
   "mimetype": "text/x-python",
   "name": "python",
   "nbconvert_exporter": "python",
   "pygments_lexer": "ipython3",
   "version": "3.9.12"
  }
 },
 "nbformat": 4,
 "nbformat_minor": 5
}
